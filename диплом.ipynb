{
  "nbformat": 4,
  "nbformat_minor": 0,
  "metadata": {
    "colab": {
      "provenance": []
    },
    "kernelspec": {
      "name": "python3",
      "display_name": "Python 3"
    },
    "language_info": {
      "name": "python"
    }
  },
  "cells": [
    {
      "cell_type": "code",
      "source": [
        "# univariate multi-step vector-output stacked lstm example\n",
        "from numpy import array\n",
        "from keras.models import Sequential\n",
        "from keras.layers import LSTM\n",
        "from keras.layers import Dense\n",
        "import pandas as pd\n",
        "\n",
        "# split a univariate sequence into samples\n",
        "def split_sequence(sequence, n_steps_in, n_steps_out):\n",
        "\tX, y = list(), list()\n",
        "\tfor i in range(len(sequence)):\n",
        "\t\t# find the end of this pattern\n",
        "\t\tend_ix = i + n_steps_in\n",
        "\t\tout_end_ix = end_ix + n_steps_out\n",
        "\t\t# check if we are beyond the sequence\n",
        "\t\tif out_end_ix > len(sequence):\n",
        "\t\t\tbreak\n",
        "\t\t# gather input and output parts of the pattern\n",
        "\t\tseq_x, seq_y = sequence[i:end_ix], sequence[end_ix:out_end_ix]\n",
        "\t\tX.append(seq_x)\n",
        "\t\ty.append(seq_y)\n",
        "\treturn array(X), array(y)"
      ],
      "metadata": {
        "id": "XPaqgmk4ZQ5l"
      },
      "execution_count": 56,
      "outputs": []
    },
    {
      "cell_type": "code",
      "source": [
        "# define input sequence\n",
        "raw_seq = pd.read_excel('/content/первая_выборка.xlsx')['iav/ilim+']\n",
        "# choose a number of time steps\n",
        "n_steps_in, n_steps_out = 42, 41\n",
        "# split into samples\n",
        "X, y = split_sequence(raw_seq, n_steps_in, n_steps_out)"
      ],
      "metadata": {
        "id": "Z47Kie6RZQ1g"
      },
      "execution_count": 57,
      "outputs": []
    },
    {
      "cell_type": "code",
      "source": [
        "# reshape from [samples, timesteps] into [samples, timesteps, features]\n",
        "n_features = 1\n",
        "X = X.reshape((X.shape[0], X.shape[1], n_features))"
      ],
      "metadata": {
        "id": "XY07tTKcZQx2"
      },
      "execution_count": 58,
      "outputs": []
    },
    {
      "cell_type": "code",
      "source": [
        "from keras.layers import Conv1D, MaxPooling1D, Flatten\n",
        "\n",
        "# Определение модели\n",
        "model = Sequential()\n",
        "model.add(Conv1D(filters=32, kernel_size=3, activation='relu', input_shape=(n_steps_in, n_features)))\n",
        "model.add(Conv1D(filters=64, kernel_size=3, activation='relu'))\n",
        "model.add(MaxPooling1D(pool_size=2))\n",
        "model.add(LSTM(200, activation='tanh', return_sequences=True))\n",
        "model.add(LSTM(200, activation='tanh'))\n",
        "model.add(Dense(n_steps_out))\n"
      ],
      "metadata": {
        "id": "YOPQDQRZZQu8"
      },
      "execution_count": 59,
      "outputs": []
    },
    {
      "cell_type": "code",
      "source": [
        "model.compile(optimizer='adam', loss='mse')"
      ],
      "metadata": {
        "id": "LsMnsv2qZQro"
      },
      "execution_count": 60,
      "outputs": []
    },
    {
      "cell_type": "code",
      "source": [
        "# fit model\n",
        "model.fit(X, y, epochs=100, verbose=0)"
      ],
      "metadata": {
        "id": "hdc5r83zZQok"
      },
      "execution_count": null,
      "outputs": []
    },
    {
      "cell_type": "code",
      "source": [
        "# demonstrate prediction\n",
        "x_input = array(pd.read_excel('/content/тестовая_выборка (2).xlsx')['iav/ilim+'])\n",
        "x_input = x_input.reshape((1, n_steps_in, n_features))\n",
        "yhat = model.predict(x_input, verbose=0)\n",
        "print(yhat)"
      ],
      "metadata": {
        "colab": {
          "base_uri": "https://localhost:8080/"
        },
        "id": "fnYBs4KAZQlL",
        "outputId": "77449d16-f54c-4324-99c4-89189c630700"
      },
      "execution_count": 66,
      "outputs": [
        {
          "output_type": "stream",
          "name": "stdout",
          "text": [
            "[[0.5617939  0.5742092  0.58382314 0.5894385  0.5942021  0.6088277\n",
            "  0.61980087 0.62334335 0.6396516  0.6398629  0.6527517  0.66508585\n",
            "  0.6669768  0.6732398  0.6837097  0.6956892  0.7028265  0.70899427\n",
            "  0.7167592  0.72291386 0.7304051  0.7374818  0.74993634 0.7515801\n",
            "  0.7563128  0.76390564 0.77294517 0.77327967 0.78212965 0.79767823\n",
            "  0.7987145  0.8049672  0.8137607  0.8142313  0.8233113  0.8270117\n",
            "  0.83496934 0.83848786 0.84295374 0.8532354  0.8518609 ]]\n"
          ]
        }
      ]
    },
    {
      "cell_type": "code",
      "source": [
        "from sklearn.metrics import mean_squared_error, mean_absolute_error\n",
        "import numpy as np\n",
        "\n",
        "# Вычисление среднеквадратичной ошибки (MSE)\n",
        "mse = mean_squared_error(y[0], yhat[0])\n",
        "print(\"MSE:\", mse)\n",
        "\n",
        "# Вычисление средней абсолютной ошибки (MAE)\n",
        "mae = mean_absolute_error(y[0], yhat[0])\n",
        "print(\"MAE:\", mae)\n",
        "\n",
        "# Вычисление корня из среднеквадратичной ошибки (RMSE)\n",
        "rmse = np.sqrt(mse)\n",
        "print(\"RMSE:\", rmse)\n",
        "\n",
        "# Вычисление средней абсолютной процентной ошибки (MAPE)\n",
        "mape = np.mean(np.abs((y[0] - yhat) / y[0])) * 100\n",
        "print(\"MAPE:\", mape)"
      ],
      "metadata": {
        "colab": {
          "base_uri": "https://localhost:8080/"
        },
        "id": "KNjmJYlya-x1",
        "outputId": "1fd1f7d4-a3f0-43f6-a4b7-e43fdb7ddcec"
      },
      "execution_count": 67,
      "outputs": [
        {
          "output_type": "stream",
          "name": "stdout",
          "text": [
            "MSE: 2.1421596065277035e-05\n",
            "MAE: 0.003969584879061072\n",
            "RMSE: 0.0046283470121931255\n",
            "MAPE: 0.5537583355240034\n"
          ]
        }
      ]
    },
    {
      "cell_type": "code",
      "source": [
        "from keras.models import model_from_json\n",
        "\n",
        "# Загрузка архитектуры модели\n",
        "with open('/content/last_model_architecture_1.json', 'r') as f:\n",
        "    model_json = f.read()\n",
        "model = model_from_json(model_json)\n",
        "\n",
        "# Загрузка весов модели\n",
        "model.load_weights('/content/last_model_weights_1.h5')"
      ],
      "metadata": {
        "id": "MqjmEQPFZQiM"
      },
      "execution_count": 64,
      "outputs": []
    },
    {
      "cell_type": "code",
      "source": [
        "# demonstrate prediction\n",
        "x_input = array(pd.read_excel('/content/тестовая_выборка (2).xlsx')['iav/ilim+'])\n",
        "x_input = x_input[:n_steps_in]  # Оставляем только первые 42 элемента\n",
        "x_input = x_input.reshape((1, n_steps_in, n_features))"
      ],
      "metadata": {
        "id": "5saA5tK7ZWna"
      },
      "execution_count": 68,
      "outputs": []
    },
    {
      "cell_type": "code",
      "source": [
        "# Исходная последовательность точек\n",
        "input_sequence = x_input[0]  # Берем первую последовательность из обучающих данных\n",
        "input_sequence"
      ],
      "metadata": {
        "colab": {
          "base_uri": "https://localhost:8080/"
        },
        "id": "71K3TQjCZalV",
        "outputId": "a906dc2b-8e02-4fcb-c034-683d9eb55a61"
      },
      "execution_count": 69,
      "outputs": [
        {
          "output_type": "execute_result",
          "data": {
            "text/plain": [
              "array([[3.9547e-16],\n",
              "       [1.8764e-02],\n",
              "       [3.6717e-02],\n",
              "       [5.4130e-02],\n",
              "       [7.1109e-02],\n",
              "       [8.7750e-02],\n",
              "       [1.0407e-01],\n",
              "       [1.2011e-01],\n",
              "       [1.3587e-01],\n",
              "       [1.5142e-01],\n",
              "       [1.6673e-01],\n",
              "       [1.8178e-01],\n",
              "       [1.9664e-01],\n",
              "       [2.1129e-01],\n",
              "       [2.2570e-01],\n",
              "       [2.3988e-01],\n",
              "       [2.5398e-01],\n",
              "       [2.6788e-01],\n",
              "       [2.8160e-01],\n",
              "       [2.9513e-01],\n",
              "       [3.0845e-01],\n",
              "       [3.2157e-01],\n",
              "       [3.3447e-01],\n",
              "       [3.4729e-01],\n",
              "       [3.5996e-01],\n",
              "       [3.7243e-01],\n",
              "       [3.8471e-01],\n",
              "       [3.9680e-01],\n",
              "       [4.0868e-01],\n",
              "       [4.2036e-01],\n",
              "       [4.3194e-01],\n",
              "       [4.4342e-01],\n",
              "       [4.5472e-01],\n",
              "       [4.6585e-01],\n",
              "       [4.7680e-01],\n",
              "       [4.8758e-01],\n",
              "       [4.9817e-01],\n",
              "       [5.0863e-01],\n",
              "       [5.1900e-01],\n",
              "       [5.2922e-01],\n",
              "       [5.3927e-01],\n",
              "       [5.4917e-01]])"
            ]
          },
          "metadata": {},
          "execution_count": 69
        }
      ]
    },
    {
      "cell_type": "code",
      "source": [
        "# Подготовка состояний модели для предсказания\n",
        "model.reset_states()\n",
        "model.predict(input_sequence.reshape(1, n_steps_in, n_features))"
      ],
      "metadata": {
        "colab": {
          "base_uri": "https://localhost:8080/"
        },
        "id": "gzk5SQYCZcwB",
        "outputId": "6588faf9-c78f-405e-a8c2-3ae95a926a9b"
      },
      "execution_count": 70,
      "outputs": [
        {
          "output_type": "stream",
          "name": "stdout",
          "text": [
            "1/1 [==============================] - 0s 42ms/step\n"
          ]
        },
        {
          "output_type": "execute_result",
          "data": {
            "text/plain": [
              "array([[0.5617939 , 0.5742092 , 0.58382314, 0.5894385 , 0.5942021 ,\n",
              "        0.6088277 , 0.61980087, 0.62334335, 0.6396516 , 0.6398629 ,\n",
              "        0.6527517 , 0.66508585, 0.6669768 , 0.6732398 , 0.6837097 ,\n",
              "        0.6956892 , 0.7028265 , 0.70899427, 0.7167592 , 0.72291386,\n",
              "        0.7304051 , 0.7374818 , 0.74993634, 0.7515801 , 0.7563128 ,\n",
              "        0.76390564, 0.77294517, 0.77327967, 0.78212965, 0.79767823,\n",
              "        0.7987145 , 0.8049672 , 0.8137607 , 0.8142313 , 0.8233113 ,\n",
              "        0.8270117 , 0.83496934, 0.83848786, 0.84295374, 0.8532354 ,\n",
              "        0.8518609 ]], dtype=float32)"
            ]
          },
          "metadata": {},
          "execution_count": 70
        }
      ]
    },
    {
      "cell_type": "code",
      "source": [
        "# Предсказание последовательности точек до конца графика\n",
        "predicted_sequence = np.expand_dims(input_sequence.copy(), axis=0)\n",
        "#print(raw_seq)\n",
        "#print(input_sequence)"
      ],
      "metadata": {
        "id": "6wSoWzCvZepW"
      },
      "execution_count": 71,
      "outputs": []
    },
    {
      "cell_type": "code",
      "source": [
        "while len(predicted_sequence) < len(raw_seq):\n",
        "    # Предсказание следующего шага\n",
        "    next_step = model.predict(predicted_sequence[-n_steps_in:].reshape(1, n_steps_in, n_features))\n",
        "    #print(next_step.T)\n",
        "    #print(predicted_sequence)\n",
        "    predicted_sequence = np.concatenate((predicted_sequence, next_step.T), axis=0)"
      ],
      "metadata": {
        "colab": {
          "base_uri": "https://localhost:8080/"
        },
        "id": "VLemegxKZgQ2",
        "outputId": "f69835c7-678a-4fea-c1ce-e8a70ca52ad6"
      },
      "execution_count": 74,
      "outputs": [
        {
          "output_type": "stream",
          "name": "stdout",
          "text": [
            "1/1 [==============================] - 0s 84ms/step\n",
            "1/1 [==============================] - 0s 49ms/step\n",
            "1/1 [==============================] - 0s 41ms/step\n",
            "1/1 [==============================] - 0s 43ms/step\n",
            "1/1 [==============================] - 0s 38ms/step\n",
            "1/1 [==============================] - 0s 37ms/step\n",
            "1/1 [==============================] - 0s 37ms/step\n",
            "1/1 [==============================] - 0s 61ms/step\n",
            "1/1 [==============================] - 0s 39ms/step\n",
            "1/1 [==============================] - 0s 80ms/step\n",
            "1/1 [==============================] - 0s 35ms/step\n",
            "1/1 [==============================] - 0s 30ms/step\n",
            "1/1 [==============================] - 0s 32ms/step\n",
            "1/1 [==============================] - 0s 26ms/step\n",
            "1/1 [==============================] - 0s 24ms/step\n",
            "1/1 [==============================] - 0s 35ms/step\n",
            "1/1 [==============================] - 0s 23ms/step\n",
            "1/1 [==============================] - 0s 23ms/step\n",
            "1/1 [==============================] - 0s 25ms/step\n",
            "1/1 [==============================] - 0s 24ms/step\n",
            "1/1 [==============================] - 0s 23ms/step\n",
            "1/1 [==============================] - 0s 24ms/step\n",
            "1/1 [==============================] - 0s 25ms/step\n",
            "1/1 [==============================] - 0s 24ms/step\n",
            "1/1 [==============================] - 0s 24ms/step\n",
            "1/1 [==============================] - 0s 25ms/step\n",
            "1/1 [==============================] - 0s 25ms/step\n",
            "1/1 [==============================] - 0s 26ms/step\n",
            "1/1 [==============================] - 0s 27ms/step\n",
            "1/1 [==============================] - 0s 27ms/step\n",
            "1/1 [==============================] - 0s 24ms/step\n",
            "1/1 [==============================] - 0s 25ms/step\n",
            "1/1 [==============================] - 0s 24ms/step\n",
            "1/1 [==============================] - 0s 25ms/step\n",
            "1/1 [==============================] - 0s 24ms/step\n",
            "1/1 [==============================] - 0s 30ms/step\n",
            "1/1 [==============================] - 0s 24ms/step\n",
            "1/1 [==============================] - 0s 24ms/step\n",
            "1/1 [==============================] - 0s 23ms/step\n",
            "1/1 [==============================] - 0s 24ms/step\n",
            "1/1 [==============================] - 0s 24ms/step\n",
            "1/1 [==============================] - 0s 25ms/step\n",
            "1/1 [==============================] - 0s 29ms/step\n",
            "1/1 [==============================] - 0s 24ms/step\n",
            "1/1 [==============================] - 0s 23ms/step\n",
            "1/1 [==============================] - 0s 25ms/step\n",
            "1/1 [==============================] - 0s 27ms/step\n"
          ]
        }
      ]
    },
    {
      "cell_type": "code",
      "source": [
        "# Визуализация предсказанной последовательности\n",
        "import matplotlib.pyplot as plt\n",
        "\n",
        "plt.plot(raw_seq, label='Исходные данные')\n",
        "plt.plot(range(len(raw_seq)), predicted_sequence[:len(raw_seq), 0], label='Предсказанные данные')\n",
        "plt.legend()\n",
        "plt.show()"
      ],
      "metadata": {
        "colab": {
          "base_uri": "https://localhost:8080/",
          "height": 430
        },
        "id": "Y9MJ5DJYZoCU",
        "outputId": "c306ca18-0175-489a-86ef-377848569d99"
      },
      "execution_count": 76,
      "outputs": [
        {
          "output_type": "display_data",
          "data": {
            "text/plain": [
              "<Figure size 640x480 with 1 Axes>"
            ],
            "image/png": "[encoded data removed]"
          },
          "metadata": {}
        }
      ]
    },
    {
      "cell_type": "code",
      "source": [],
      "metadata": {
        "id": "3_zjrOBUb2_y"
      },
      "execution_count": null,
      "outputs": []
    }
  ]
}